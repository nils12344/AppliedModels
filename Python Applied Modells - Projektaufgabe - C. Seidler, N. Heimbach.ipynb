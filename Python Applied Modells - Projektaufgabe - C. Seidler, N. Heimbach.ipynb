{
 "cells": [
  {
   "cell_type": "markdown",
   "id": "54e1ca34",
   "metadata": {},
   "source": [
    "# ![HS-Albsig Logo](https://www.hs-albsig.de/typo3conf/ext/hsas/Resources/Public/Images/logo.png)\n",
    "\n",
    "<br><br><br>\n",
    "<a class=\"anchor\" id=\"Anfang\"></a>\n",
    "# Python: Applied Modells - Projektaufgabe\n",
    "\n",
    "***\n",
    "**Autoren:** Christian Seidler, Nils Heimbach\n",
    "\n",
    "\n",
    "**Verlauf:**\n",
    "Das Notebook wurde im Rahmen der Veranstaltung \"Python: Applied Modells\" des Studiengangs \"Data Engineering and Consulting\" der Hochschule Albstadt-Sigmaringen im Sommersemesters 2022 erstellt.\n",
    "***\n",
    "\n",
    "***\n",
    "**Beschreibung:**\n",
    "\n",
    "\n",
    "**Inhaltsverzeichnis:**\n",
    "<ul>\n",
    "<li><a href='#0'>0: Pre-Settings</a></li>\n",
    "</ul>"
   ]
  },
  {
   "cell_type": "code",
   "execution_count": null,
   "id": "bd442ec0",
   "metadata": {},
   "outputs": [],
   "source": []
  }
 ],
 "metadata": {
  "kernelspec": {
   "display_name": "Python 3",
   "language": "python",
   "name": "python3"
  },
  "language_info": {
   "codemirror_mode": {
    "name": "ipython",
    "version": 3
   },
   "file_extension": ".py",
   "mimetype": "text/x-python",
   "name": "python",
   "nbconvert_exporter": "python",
   "pygments_lexer": "ipython3",
   "version": "3.8.8"
  }
 },
 "nbformat": 4,
 "nbformat_minor": 5
}
